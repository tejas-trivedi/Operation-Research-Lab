{
  "nbformat": 4,
  "nbformat_minor": 0,
  "metadata": {
    "colab": {
      "name": "Exp9_TejasTrivedi_500077185.ipynb",
      "provenance": [],
      "collapsed_sections": [],
      "authorship_tag": "ABX9TyNUbzmoWGou2DthvuWtya9K",
      "include_colab_link": true
    },
    "kernelspec": {
      "name": "python3",
      "display_name": "Python 3"
    },
    "language_info": {
      "name": "python"
    }
  },
  "cells": [
    {
      "cell_type": "markdown",
      "metadata": {
        "id": "view-in-github",
        "colab_type": "text"
      },
      "source": [
        "<a href=\"https://colab.research.google.com/github/tejas-trivedi/Operation-Research-Lab/blob/main/Exp9_TejasTrivedi_500077185.ipynb\" target=\"_parent\"><img src=\"https://colab.research.google.com/assets/colab-badge.svg\" alt=\"Open In Colab\"/></a>"
      ]
    },
    {
      "cell_type": "markdown",
      "source": [
        "**Travelling Salesman Problem**\n",
        "\n",
        "1) Mr iyer is a salesman with Delite Manufacturing Company. He wants to visit six cities say, 1, 2, 3, 4, 5 and 6, starting with city 1 where he is stationed. The distance between various cities is given in the Table below. Mr Iyer wants to develop a tour through the five other cities and return to his home city in such a way that he has to travel the minimum distance."
      ],
      "metadata": {
        "id": "irdkabwAFUav"
      }
    },
    {
      "cell_type": "code",
      "source": [
        "from sys import maxsize\n",
        "from itertools import permutations"
      ],
      "metadata": {
        "id": "AuTZ835CFfPR"
      },
      "execution_count": 1,
      "outputs": []
    },
    {
      "cell_type": "code",
      "source": [
        "V = 6\n",
        " \n",
        "def travellingSalesmanProblem(graph, s):\n",
        "    vertex = []\n",
        "    for i in range(V):\n",
        "        if i != s:\n",
        "            vertex.append(i)\n",
        "    min_path = maxsize\n",
        "    next_permutation=permutations(vertex)\n",
        "    for i in next_permutation:\n",
        "        current_pathweight = 0\n",
        "        k = s\n",
        "        for j in i:\n",
        "            current_pathweight += graph[k][j]\n",
        "            k = j\n",
        "        current_pathweight += graph[k][s]\n",
        "        min_path = min(min_path, current_pathweight)\n",
        "         \n",
        "    return min_path\n",
        " \n",
        " \n",
        "if __name__ == \"__main__\":\n",
        " \n",
        "    graph = [[0, 10, 100, 50, 33, 66], [10, 0, 22, 86, 952, 3],\n",
        "            [100, 22, 0, 6, 86, 2], [50, 86, 6, 0, 5, 4],\n",
        "             [33, 952, 86, 5, 0, 9],[66, 3, 2, 4, 9, 0]]\n",
        "    s = 0\n",
        "    print(travellingSalesmanProblem(graph, s))"
      ],
      "metadata": {
        "colab": {
          "base_uri": "https://localhost:8080/"
        },
        "id": "AFP5jiqoFguX",
        "outputId": "debdfac6-ef0e-49d3-f7a4-0f243856dce6"
      },
      "execution_count": 2,
      "outputs": [
        {
          "output_type": "stream",
          "name": "stdout",
          "text": [
            "59\n"
          ]
        }
      ]
    },
    {
      "cell_type": "code",
      "source": [
        ""
      ],
      "metadata": {
        "id": "CH3sfI26Fi_I"
      },
      "execution_count": null,
      "outputs": []
    }
  ]
}