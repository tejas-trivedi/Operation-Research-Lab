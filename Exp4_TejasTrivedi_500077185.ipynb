{
  "nbformat": 4,
  "nbformat_minor": 0,
  "metadata": {
    "colab": {
      "name": "Exp4_TejasTrivedi_500077185.ipynb",
      "provenance": [],
      "collapsed_sections": [],
      "authorship_tag": "ABX9TyMjqomYAMnVpWlU6HYAjbXS",
      "include_colab_link": true
    },
    "kernelspec": {
      "name": "python3",
      "display_name": "Python 3"
    },
    "language_info": {
      "name": "python"
    }
  },
  "cells": [
    {
      "cell_type": "markdown",
      "metadata": {
        "id": "view-in-github",
        "colab_type": "text"
      },
      "source": [
        "<a href=\"https://colab.research.google.com/github/tejas-trivedi/Operation-Research-Lab/blob/main/Exp4_TejasTrivedi_500077185.ipynb\" target=\"_parent\"><img src=\"https://colab.research.google.com/assets/colab-badge.svg\" alt=\"Open In Colab\"/></a>"
      ]
    },
    {
      "cell_type": "markdown",
      "metadata": {
        "id": "YQMeb0PeWsL-"
      },
      "source": [
        "**Experiment 4**"
      ]
    },
    {
      "cell_type": "markdown",
      "metadata": {
        "id": "HLdU_LHnWmFO"
      },
      "source": [
        " Integer Programming Problem(IPP)"
      ]
    },
    {
      "cell_type": "code",
      "metadata": {
        "id": "D9dQILgnWCj8"
      },
      "source": [
        "import cvxpy as cp"
      ],
      "execution_count": 5,
      "outputs": []
    },
    {
      "cell_type": "markdown",
      "metadata": {
        "id": "BdR9o-J4WHx_"
      },
      "source": [
        "Problem-1 <br/>\n",
        "![q1.jpeg](data:image/jpeg;base64,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)\n"
      ]
    },
    {
      "cell_type": "code",
      "metadata": {
        "colab": {
          "base_uri": "https://localhost:8080/"
        },
        "id": "jdwDNryxWJF5",
        "outputId": "ff584425-6b97-4dfb-bbbd-fd37816ab30a"
      },
      "source": [
        "x1 = cp.Variable()\n",
        "x2 = cp.Variable()\n",
        "constraints = [\n",
        "               -x1 + 3*x2 <= 6,\n",
        "               7*x1 + x2 <= 35,\n",
        "               x1 >= 0,\n",
        "               x2 >= 0\n",
        "               ]\n",
        "obj = cp.Maximize((7*x1 + 10*x2))\n",
        "prob = cp.Problem(obj, constraints)\n",
        "prob.solve()"
      ],
      "execution_count": 6,
      "outputs": [
        {
          "output_type": "execute_result",
          "data": {
            "text/plain": [
              "66.4999999374403"
            ]
          },
          "metadata": {},
          "execution_count": 6
        }
      ]
    },
    {
      "cell_type": "markdown",
      "metadata": {
        "id": "QzeDC8feWOtc"
      },
      "source": [
        "Problem-2 <br/>\n",
        "![q2.jpeg](data:image/jpeg;base64,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)"
      ]
    },
    {
      "cell_type": "code",
      "metadata": {
        "colab": {
          "base_uri": "https://localhost:8080/"
        },
        "id": "_LFMciP-WPuz",
        "outputId": "ec0b0462-4894-4803-9f7c-5bbac5ee6538"
      },
      "source": [
        "x1 = cp.Variable()\n",
        "x2 = cp.Variable()\n",
        "constraints = [\n",
        "               x1 + x2 <= 6,\n",
        "               5*x1 + 9*x2 <= 45,\n",
        "               x1 >= 0,\n",
        "               x2 >= 0\n",
        "               ]\n",
        "obj = cp.Maximize((5*x1 + 8*x2))\n",
        "prob = cp.Problem(obj, constraints)\n",
        "prob.solve()"
      ],
      "execution_count": 7,
      "outputs": [
        {
          "output_type": "execute_result",
          "data": {
            "text/plain": [
              "41.24999999702171"
            ]
          },
          "metadata": {},
          "execution_count": 7
        }
      ]
    },
    {
      "cell_type": "markdown",
      "metadata": {
        "id": "RHhLuO9LZyzU"
      },
      "source": [
        "Problem-3 <br/>\n",
        "A machine is used to produce two interchangeable products. The daily capacity of the\n",
        "machine can produce at most 20 units of product 1 and 10 units of product 2. Alternatively,\n",
        "       the machine can be adjusted to produce at most 12 units of product 1 and 25\n",
        "       units of product 2 daily. Market analysis shows that the maximum daily demand for the\n",
        "       two products combined is 35 units. Given that the unit profits for the two respective\n",
        "       products are $10 and $12, which of the two machine settings should be selected? \n",
        "       Formulate the problem as an IPP and find the optimum.\n"
      ]
    },
    {
      "cell_type": "code",
      "metadata": {
        "colab": {
          "base_uri": "https://localhost:8080/"
        },
        "id": "jBDhJAANWUAA",
        "outputId": "7120b322-e365-4d6a-c5d2-bbb688828465"
      },
      "source": [
        "x1 = cp.Variable(integer=True)\n",
        "x2 = cp.Variable(integer=True)\n",
        "\n",
        "constraints1 = [\n",
        "                x1 + x2 <= 35,\n",
        "               25*x1-12*x2 <= 0,\n",
        "               12*x1-10*x2 <= 0,\n",
        "               x1>=0,\n",
        "               x2>=0\n",
        "                ]\n",
        "\n",
        "obj1 = cp.Maximize((10*x1) + (12*x2))\n",
        "\n",
        "prob1 = cp.Problem(obj1, constraints1)\n",
        "prob1.solve()\n",
        "\n",
        "print(\"Value of x1:\", x1.value)\n",
        "print(\"Value of x2:\", x2.value)\n",
        "print(\"Value of obj:\",prob1.value)"
      ],
      "execution_count": 9,
      "outputs": [
        {
          "output_type": "stream",
          "name": "stdout",
          "text": [
            "Value of x1: 0.0\n",
            "Value of x2: 35.0\n",
            "Value of obj: 420.0\n"
          ]
        }
      ]
    }
  ]
}